{
 "cells": [
  {
   "cell_type": "markdown",
   "metadata": {},
   "source": [
    "### LIBRARIES"
   ]
  },
  {
   "cell_type": "code",
   "execution_count": 1,
   "metadata": {},
   "outputs": [],
   "source": [
    "import os\n",
    "import glob\n",
    "import pandas as pd\n",
    "import pycountry_convert as pc\n",
    "import matplotlib.pyplot as plt"
   ]
  },
  {
   "cell_type": "markdown",
   "metadata": {},
   "source": [
    "### DATA LOADING"
   ]
  },
  {
   "cell_type": "code",
   "execution_count": 2,
   "metadata": {},
   "outputs": [],
   "source": [
    "data_dir = r\"C:\\Users\\LOCALGHOST\\Desktop\\DATASETS\\AIR_QUALITY\\WAQI\\*.csv\" #add your path here"
   ]
  },
  {
   "cell_type": "code",
   "execution_count": 3,
   "metadata": {},
   "outputs": [
    {
     "data": {
      "text/plain": [
       "['C:\\\\Users\\\\LOCALGHOST\\\\Desktop\\\\DATASETS\\\\AIR_QUALITY\\\\WAQI\\\\waqi-covid19-airqualitydata-2015H1.csv',\n",
       " 'C:\\\\Users\\\\LOCALGHOST\\\\Desktop\\\\DATASETS\\\\AIR_QUALITY\\\\WAQI\\\\waqi-covid19-airqualitydata-2016H1.csv',\n",
       " 'C:\\\\Users\\\\LOCALGHOST\\\\Desktop\\\\DATASETS\\\\AIR_QUALITY\\\\WAQI\\\\waqi-covid19-airqualitydata-2017H1.csv',\n",
       " 'C:\\\\Users\\\\LOCALGHOST\\\\Desktop\\\\DATASETS\\\\AIR_QUALITY\\\\WAQI\\\\waqi-covid19-airqualitydata-2018H1.csv',\n",
       " 'C:\\\\Users\\\\LOCALGHOST\\\\Desktop\\\\DATASETS\\\\AIR_QUALITY\\\\WAQI\\\\waqi-covid19-airqualitydata-2019Q1.csv',\n",
       " 'C:\\\\Users\\\\LOCALGHOST\\\\Desktop\\\\DATASETS\\\\AIR_QUALITY\\\\WAQI\\\\waqi-covid19-airqualitydata-2019Q2.csv',\n",
       " 'C:\\\\Users\\\\LOCALGHOST\\\\Desktop\\\\DATASETS\\\\AIR_QUALITY\\\\WAQI\\\\waqi-covid19-airqualitydata-2019Q3.csv',\n",
       " 'C:\\\\Users\\\\LOCALGHOST\\\\Desktop\\\\DATASETS\\\\AIR_QUALITY\\\\WAQI\\\\waqi-covid19-airqualitydata-2019Q4.csv',\n",
       " 'C:\\\\Users\\\\LOCALGHOST\\\\Desktop\\\\DATASETS\\\\AIR_QUALITY\\\\WAQI\\\\waqi-covid19-airqualitydata-2020.csv']"
      ]
     },
     "execution_count": 3,
     "metadata": {},
     "output_type": "execute_result"
    }
   ],
   "source": [
    "csv_list = [f for f in glob.glob(data_dir)]\n",
    "csv_list"
   ]
  },
  {
   "cell_type": "markdown",
   "metadata": {},
   "source": [
    "### AGGREGATION"
   ]
  },
  {
   "cell_type": "code",
   "execution_count": 4,
   "metadata": {},
   "outputs": [],
   "source": [
    "#combine all files in the list\n",
    "combined_csv = pd.concat([pd.read_csv(f,skiprows=4) for f in csv_list ])"
   ]
  },
  {
   "cell_type": "code",
   "execution_count": 5,
   "metadata": {},
   "outputs": [
    {
     "data": {
      "text/plain": [
       "pandas.core.frame.DataFrame"
      ]
     },
     "execution_count": 5,
     "metadata": {},
     "output_type": "execute_result"
    }
   ],
   "source": [
    "type(combined_csv)"
   ]
  },
  {
   "cell_type": "markdown",
   "metadata": {},
   "source": [
    "### CHECK FOR DUPLICATE ROWS"
   ]
  },
  {
   "cell_type": "code",
   "execution_count": 6,
   "metadata": {},
   "outputs": [],
   "source": [
    "# # Select duplicate rows except first occurrence based on all columns\n",
    "# duplicateRowsDF = combined_csv[combined_csv.duplicated()]\n",
    "# print(\"Duplicate Rows except first occurrence based on all columns are :\")\n",
    "# duplicateRowsDF.shape"
   ]
  },
  {
   "cell_type": "code",
   "execution_count": 7,
   "metadata": {},
   "outputs": [],
   "source": [
    "# duplicateRowsDF[:20] #Ignore for now"
   ]
  },
  {
   "cell_type": "markdown",
   "metadata": {},
   "source": [
    "### TABLE INFO"
   ]
  },
  {
   "cell_type": "code",
   "execution_count": 8,
   "metadata": {},
   "outputs": [
    {
     "data": {
      "text/plain": [
       "(4682811, 9)"
      ]
     },
     "execution_count": 8,
     "metadata": {},
     "output_type": "execute_result"
    }
   ],
   "source": [
    "combined_csv.shape"
   ]
  },
  {
   "cell_type": "code",
   "execution_count": 9,
   "metadata": {},
   "outputs": [
    {
     "name": "stdout",
     "output_type": "stream",
     "text": [
      "<class 'pandas.core.frame.DataFrame'>\n",
      "Int64Index: 4682811 entries, 0 to 724679\n",
      "Data columns (total 9 columns):\n",
      "Date        object\n",
      "Country     object\n",
      "City        object\n",
      "Specie      object\n",
      "count       int64\n",
      "min         float64\n",
      "max         float64\n",
      "median      float64\n",
      "variance    float64\n",
      "dtypes: float64(4), int64(1), object(4)\n",
      "memory usage: 357.3+ MB\n"
     ]
    }
   ],
   "source": [
    "combined_csv.info()"
   ]
  },
  {
   "cell_type": "code",
   "execution_count": 10,
   "metadata": {},
   "outputs": [
    {
     "data": {
      "text/plain": [
       "Date        4682811\n",
       "Country     4682811\n",
       "City        4682811\n",
       "Specie      4682811\n",
       "count       4682811\n",
       "min         4682811\n",
       "max         4682811\n",
       "median      4682811\n",
       "variance    4682811\n",
       "dtype: int64"
      ]
     },
     "execution_count": 10,
     "metadata": {},
     "output_type": "execute_result"
    }
   ],
   "source": [
    "combined_csv.count()"
   ]
  },
  {
   "cell_type": "code",
   "execution_count": 11,
   "metadata": {},
   "outputs": [
    {
     "data": {
      "text/html": [
       "<div>\n",
       "<style scoped>\n",
       "    .dataframe tbody tr th:only-of-type {\n",
       "        vertical-align: middle;\n",
       "    }\n",
       "\n",
       "    .dataframe tbody tr th {\n",
       "        vertical-align: top;\n",
       "    }\n",
       "\n",
       "    .dataframe thead th {\n",
       "        text-align: right;\n",
       "    }\n",
       "</style>\n",
       "<table border=\"1\" class=\"dataframe\">\n",
       "  <thead>\n",
       "    <tr style=\"text-align: right;\">\n",
       "      <th></th>\n",
       "      <th>Date</th>\n",
       "      <th>Country</th>\n",
       "      <th>City</th>\n",
       "      <th>Specie</th>\n",
       "      <th>count</th>\n",
       "      <th>min</th>\n",
       "      <th>max</th>\n",
       "      <th>median</th>\n",
       "      <th>variance</th>\n",
       "    </tr>\n",
       "  </thead>\n",
       "  <tbody>\n",
       "    <tr>\n",
       "      <td>0</td>\n",
       "      <td>False</td>\n",
       "      <td>False</td>\n",
       "      <td>False</td>\n",
       "      <td>False</td>\n",
       "      <td>False</td>\n",
       "      <td>False</td>\n",
       "      <td>False</td>\n",
       "      <td>False</td>\n",
       "      <td>False</td>\n",
       "    </tr>\n",
       "    <tr>\n",
       "      <td>1</td>\n",
       "      <td>False</td>\n",
       "      <td>False</td>\n",
       "      <td>False</td>\n",
       "      <td>False</td>\n",
       "      <td>False</td>\n",
       "      <td>False</td>\n",
       "      <td>False</td>\n",
       "      <td>False</td>\n",
       "      <td>False</td>\n",
       "    </tr>\n",
       "    <tr>\n",
       "      <td>2</td>\n",
       "      <td>False</td>\n",
       "      <td>False</td>\n",
       "      <td>False</td>\n",
       "      <td>False</td>\n",
       "      <td>False</td>\n",
       "      <td>False</td>\n",
       "      <td>False</td>\n",
       "      <td>False</td>\n",
       "      <td>False</td>\n",
       "    </tr>\n",
       "    <tr>\n",
       "      <td>3</td>\n",
       "      <td>False</td>\n",
       "      <td>False</td>\n",
       "      <td>False</td>\n",
       "      <td>False</td>\n",
       "      <td>False</td>\n",
       "      <td>False</td>\n",
       "      <td>False</td>\n",
       "      <td>False</td>\n",
       "      <td>False</td>\n",
       "    </tr>\n",
       "    <tr>\n",
       "      <td>4</td>\n",
       "      <td>False</td>\n",
       "      <td>False</td>\n",
       "      <td>False</td>\n",
       "      <td>False</td>\n",
       "      <td>False</td>\n",
       "      <td>False</td>\n",
       "      <td>False</td>\n",
       "      <td>False</td>\n",
       "      <td>False</td>\n",
       "    </tr>\n",
       "    <tr>\n",
       "      <td>...</td>\n",
       "      <td>...</td>\n",
       "      <td>...</td>\n",
       "      <td>...</td>\n",
       "      <td>...</td>\n",
       "      <td>...</td>\n",
       "      <td>...</td>\n",
       "      <td>...</td>\n",
       "      <td>...</td>\n",
       "      <td>...</td>\n",
       "    </tr>\n",
       "    <tr>\n",
       "      <td>724675</td>\n",
       "      <td>False</td>\n",
       "      <td>False</td>\n",
       "      <td>False</td>\n",
       "      <td>False</td>\n",
       "      <td>False</td>\n",
       "      <td>False</td>\n",
       "      <td>False</td>\n",
       "      <td>False</td>\n",
       "      <td>False</td>\n",
       "    </tr>\n",
       "    <tr>\n",
       "      <td>724676</td>\n",
       "      <td>False</td>\n",
       "      <td>False</td>\n",
       "      <td>False</td>\n",
       "      <td>False</td>\n",
       "      <td>False</td>\n",
       "      <td>False</td>\n",
       "      <td>False</td>\n",
       "      <td>False</td>\n",
       "      <td>False</td>\n",
       "    </tr>\n",
       "    <tr>\n",
       "      <td>724677</td>\n",
       "      <td>False</td>\n",
       "      <td>False</td>\n",
       "      <td>False</td>\n",
       "      <td>False</td>\n",
       "      <td>False</td>\n",
       "      <td>False</td>\n",
       "      <td>False</td>\n",
       "      <td>False</td>\n",
       "      <td>False</td>\n",
       "    </tr>\n",
       "    <tr>\n",
       "      <td>724678</td>\n",
       "      <td>False</td>\n",
       "      <td>False</td>\n",
       "      <td>False</td>\n",
       "      <td>False</td>\n",
       "      <td>False</td>\n",
       "      <td>False</td>\n",
       "      <td>False</td>\n",
       "      <td>False</td>\n",
       "      <td>False</td>\n",
       "    </tr>\n",
       "    <tr>\n",
       "      <td>724679</td>\n",
       "      <td>False</td>\n",
       "      <td>False</td>\n",
       "      <td>False</td>\n",
       "      <td>False</td>\n",
       "      <td>False</td>\n",
       "      <td>False</td>\n",
       "      <td>False</td>\n",
       "      <td>False</td>\n",
       "      <td>False</td>\n",
       "    </tr>\n",
       "  </tbody>\n",
       "</table>\n",
       "<p>4682811 rows × 9 columns</p>\n",
       "</div>"
      ],
      "text/plain": [
       "         Date  Country   City  Specie  count    min    max  median  variance\n",
       "0       False    False  False   False  False  False  False   False     False\n",
       "1       False    False  False   False  False  False  False   False     False\n",
       "2       False    False  False   False  False  False  False   False     False\n",
       "3       False    False  False   False  False  False  False   False     False\n",
       "4       False    False  False   False  False  False  False   False     False\n",
       "...       ...      ...    ...     ...    ...    ...    ...     ...       ...\n",
       "724675  False    False  False   False  False  False  False   False     False\n",
       "724676  False    False  False   False  False  False  False   False     False\n",
       "724677  False    False  False   False  False  False  False   False     False\n",
       "724678  False    False  False   False  False  False  False   False     False\n",
       "724679  False    False  False   False  False  False  False   False     False\n",
       "\n",
       "[4682811 rows x 9 columns]"
      ]
     },
     "execution_count": 11,
     "metadata": {},
     "output_type": "execute_result"
    }
   ],
   "source": [
    "missing = combined_csv.isna()\n",
    "missing"
   ]
  },
  {
   "cell_type": "code",
   "execution_count": 12,
   "metadata": {},
   "outputs": [
    {
     "data": {
      "text/plain": [
       "Date        0\n",
       "Country     0\n",
       "City        0\n",
       "Specie      0\n",
       "count       0\n",
       "min         0\n",
       "max         0\n",
       "median      0\n",
       "variance    0\n",
       "dtype: int64"
      ]
     },
     "execution_count": 12,
     "metadata": {},
     "output_type": "execute_result"
    }
   ],
   "source": [
    "missing.sum()"
   ]
  },
  {
   "cell_type": "markdown",
   "metadata": {},
   "source": [
    "We summed up each column in the boolean DataFrame, which is summing up just False and True values.    \n",
    "This result simply returns the number of values that are True.    \n",
    "In our case the True values represent missing values in our original DataFrame, so we now have the number of missing values in each column. In our case : 0"
   ]
  },
  {
   "cell_type": "code",
   "execution_count": 13,
   "metadata": {},
   "outputs": [
    {
     "data": {
      "text/html": [
       "<div>\n",
       "<style scoped>\n",
       "    .dataframe tbody tr th:only-of-type {\n",
       "        vertical-align: middle;\n",
       "    }\n",
       "\n",
       "    .dataframe tbody tr th {\n",
       "        vertical-align: top;\n",
       "    }\n",
       "\n",
       "    .dataframe thead th {\n",
       "        text-align: right;\n",
       "    }\n",
       "</style>\n",
       "<table border=\"1\" class=\"dataframe\">\n",
       "  <thead>\n",
       "    <tr style=\"text-align: right;\">\n",
       "      <th></th>\n",
       "      <th>count</th>\n",
       "      <th>min</th>\n",
       "      <th>max</th>\n",
       "      <th>median</th>\n",
       "      <th>variance</th>\n",
       "    </tr>\n",
       "  </thead>\n",
       "  <tbody>\n",
       "    <tr>\n",
       "      <td>count</td>\n",
       "      <td>4.682811e+06</td>\n",
       "      <td>4.682811e+06</td>\n",
       "      <td>4.682811e+06</td>\n",
       "      <td>4.682811e+06</td>\n",
       "      <td>4.682811e+06</td>\n",
       "    </tr>\n",
       "    <tr>\n",
       "      <td>mean</td>\n",
       "      <td>1.284041e+02</td>\n",
       "      <td>6.996451e+01</td>\n",
       "      <td>1.071610e+02</td>\n",
       "      <td>8.402456e+01</td>\n",
       "      <td>7.837435e+03</td>\n",
       "    </tr>\n",
       "    <tr>\n",
       "      <td>std</td>\n",
       "      <td>1.842525e+02</td>\n",
       "      <td>2.414697e+02</td>\n",
       "      <td>2.464326e+02</td>\n",
       "      <td>2.400037e+02</td>\n",
       "      <td>2.262167e+05</td>\n",
       "    </tr>\n",
       "    <tr>\n",
       "      <td>min</td>\n",
       "      <td>2.000000e+00</td>\n",
       "      <td>-3.276600e+03</td>\n",
       "      <td>-3.065600e+03</td>\n",
       "      <td>-3.065600e+03</td>\n",
       "      <td>0.000000e+00</td>\n",
       "    </tr>\n",
       "    <tr>\n",
       "      <td>25%</td>\n",
       "      <td>4.300000e+01</td>\n",
       "      <td>1.000000e+00</td>\n",
       "      <td>1.100000e+01</td>\n",
       "      <td>4.200000e+00</td>\n",
       "      <td>2.761000e+01</td>\n",
       "    </tr>\n",
       "    <tr>\n",
       "      <td>50%</td>\n",
       "      <td>7.200000e+01</td>\n",
       "      <td>3.600000e+00</td>\n",
       "      <td>3.000000e+01</td>\n",
       "      <td>1.320000e+01</td>\n",
       "      <td>1.940000e+02</td>\n",
       "    </tr>\n",
       "    <tr>\n",
       "      <td>75%</td>\n",
       "      <td>1.510000e+02</td>\n",
       "      <td>1.600000e+01</td>\n",
       "      <td>7.300000e+01</td>\n",
       "      <td>3.500000e+01</td>\n",
       "      <td>1.040825e+03</td>\n",
       "    </tr>\n",
       "    <tr>\n",
       "      <td>max</td>\n",
       "      <td>2.856000e+03</td>\n",
       "      <td>1.395000e+03</td>\n",
       "      <td>3.276400e+03</td>\n",
       "      <td>2.224000e+03</td>\n",
       "      <td>6.812430e+07</td>\n",
       "    </tr>\n",
       "  </tbody>\n",
       "</table>\n",
       "</div>"
      ],
      "text/plain": [
       "              count           min           max        median      variance\n",
       "count  4.682811e+06  4.682811e+06  4.682811e+06  4.682811e+06  4.682811e+06\n",
       "mean   1.284041e+02  6.996451e+01  1.071610e+02  8.402456e+01  7.837435e+03\n",
       "std    1.842525e+02  2.414697e+02  2.464326e+02  2.400037e+02  2.262167e+05\n",
       "min    2.000000e+00 -3.276600e+03 -3.065600e+03 -3.065600e+03  0.000000e+00\n",
       "25%    4.300000e+01  1.000000e+00  1.100000e+01  4.200000e+00  2.761000e+01\n",
       "50%    7.200000e+01  3.600000e+00  3.000000e+01  1.320000e+01  1.940000e+02\n",
       "75%    1.510000e+02  1.600000e+01  7.300000e+01  3.500000e+01  1.040825e+03\n",
       "max    2.856000e+03  1.395000e+03  3.276400e+03  2.224000e+03  6.812430e+07"
      ]
     },
     "execution_count": 13,
     "metadata": {},
     "output_type": "execute_result"
    }
   ],
   "source": [
    "combined_csv.describe() #not useful_now"
   ]
  },
  {
   "cell_type": "markdown",
   "metadata": {},
   "source": [
    "### PREPARE TABLES :"
   ]
  },
  {
   "cell_type": "markdown",
   "metadata": {},
   "source": [
    "RENAME COLUMN NAMES"
   ]
  },
  {
   "cell_type": "code",
   "execution_count": 14,
   "metadata": {},
   "outputs": [],
   "source": [
    "combined_csv.rename(columns = {\"Date\":\"date\",\"Country\":\"c_code\",\"City\":\"city\",\"Specie\":\"gauge\" },inplace = True)"
   ]
  },
  {
   "cell_type": "code",
   "execution_count": 15,
   "metadata": {},
   "outputs": [],
   "source": [
    "#convert to date time object & set_index"
   ]
  },
  {
   "cell_type": "code",
   "execution_count": 16,
   "metadata": {},
   "outputs": [],
   "source": [
    "combined_csv.set_index(pd.to_datetime(combined_csv['date']),inplace = True)"
   ]
  },
  {
   "cell_type": "code",
   "execution_count": 17,
   "metadata": {},
   "outputs": [],
   "source": [
    "#sort values"
   ]
  },
  {
   "cell_type": "code",
   "execution_count": 18,
   "metadata": {},
   "outputs": [],
   "source": [
    "combined_csv.sort_index(ascending=True,inplace = True) "
   ]
  },
  {
   "cell_type": "code",
   "execution_count": 19,
   "metadata": {},
   "outputs": [],
   "source": [
    "combined_csv.drop(columns = ['date'],axis = 1,inplace = True)"
   ]
  },
  {
   "cell_type": "code",
   "execution_count": 20,
   "metadata": {},
   "outputs": [],
   "source": [
    "#check all changes made"
   ]
  },
  {
   "cell_type": "code",
   "execution_count": 21,
   "metadata": {},
   "outputs": [
    {
     "name": "stdout",
     "output_type": "stream",
     "text": [
      "<class 'pandas.core.frame.DataFrame'>\n",
      "DatetimeIndex: 4682811 entries, 2014-12-29 to 2020-05-06\n",
      "Data columns (total 8 columns):\n",
      "c_code      object\n",
      "city        object\n",
      "gauge       object\n",
      "count       int64\n",
      "min         float64\n",
      "max         float64\n",
      "median      float64\n",
      "variance    float64\n",
      "dtypes: float64(4), int64(1), object(3)\n",
      "memory usage: 321.5+ MB\n"
     ]
    }
   ],
   "source": [
    "combined_csv.info()"
   ]
  },
  {
   "cell_type": "code",
   "execution_count": 22,
   "metadata": {},
   "outputs": [
    {
     "data": {
      "text/html": [
       "<div>\n",
       "<style scoped>\n",
       "    .dataframe tbody tr th:only-of-type {\n",
       "        vertical-align: middle;\n",
       "    }\n",
       "\n",
       "    .dataframe tbody tr th {\n",
       "        vertical-align: top;\n",
       "    }\n",
       "\n",
       "    .dataframe thead th {\n",
       "        text-align: right;\n",
       "    }\n",
       "</style>\n",
       "<table border=\"1\" class=\"dataframe\">\n",
       "  <thead>\n",
       "    <tr style=\"text-align: right;\">\n",
       "      <th></th>\n",
       "      <th>c_code</th>\n",
       "      <th>city</th>\n",
       "      <th>gauge</th>\n",
       "      <th>count</th>\n",
       "      <th>min</th>\n",
       "      <th>max</th>\n",
       "      <th>median</th>\n",
       "      <th>variance</th>\n",
       "    </tr>\n",
       "    <tr>\n",
       "      <th>date</th>\n",
       "      <th></th>\n",
       "      <th></th>\n",
       "      <th></th>\n",
       "      <th></th>\n",
       "      <th></th>\n",
       "      <th></th>\n",
       "      <th></th>\n",
       "      <th></th>\n",
       "    </tr>\n",
       "  </thead>\n",
       "  <tbody>\n",
       "    <tr>\n",
       "      <td>2014-12-29</td>\n",
       "      <td>US</td>\n",
       "      <td>Houston</td>\n",
       "      <td>no2</td>\n",
       "      <td>115</td>\n",
       "      <td>0.8</td>\n",
       "      <td>27.2</td>\n",
       "      <td>8.1</td>\n",
       "      <td>391.47</td>\n",
       "    </tr>\n",
       "    <tr>\n",
       "      <td>2014-12-29</td>\n",
       "      <td>CN</td>\n",
       "      <td>Xining</td>\n",
       "      <td>co</td>\n",
       "      <td>158</td>\n",
       "      <td>3.8</td>\n",
       "      <td>52.7</td>\n",
       "      <td>18.2</td>\n",
       "      <td>902.74</td>\n",
       "    </tr>\n",
       "    <tr>\n",
       "      <td>2014-12-29</td>\n",
       "      <td>GB</td>\n",
       "      <td>Preston</td>\n",
       "      <td>pm25</td>\n",
       "      <td>35</td>\n",
       "      <td>69.0</td>\n",
       "      <td>159.0</td>\n",
       "      <td>109.0</td>\n",
       "      <td>7405.76</td>\n",
       "    </tr>\n",
       "    <tr>\n",
       "      <td>2014-12-29</td>\n",
       "      <td>JP</td>\n",
       "      <td>Utsunomiya</td>\n",
       "      <td>o3</td>\n",
       "      <td>243</td>\n",
       "      <td>0.8</td>\n",
       "      <td>24.1</td>\n",
       "      <td>11.2</td>\n",
       "      <td>475.41</td>\n",
       "    </tr>\n",
       "    <tr>\n",
       "      <td>2014-12-29</td>\n",
       "      <td>US</td>\n",
       "      <td>Staten Island</td>\n",
       "      <td>o3</td>\n",
       "      <td>23</td>\n",
       "      <td>4.0</td>\n",
       "      <td>28.1</td>\n",
       "      <td>16.0</td>\n",
       "      <td>469.54</td>\n",
       "    </tr>\n",
       "  </tbody>\n",
       "</table>\n",
       "</div>"
      ],
      "text/plain": [
       "           c_code           city gauge  count   min    max  median  variance\n",
       "date                                                                        \n",
       "2014-12-29     US        Houston   no2    115   0.8   27.2     8.1    391.47\n",
       "2014-12-29     CN         Xining    co    158   3.8   52.7    18.2    902.74\n",
       "2014-12-29     GB        Preston  pm25     35  69.0  159.0   109.0   7405.76\n",
       "2014-12-29     JP     Utsunomiya    o3    243   0.8   24.1    11.2    475.41\n",
       "2014-12-29     US  Staten Island    o3     23   4.0   28.1    16.0    469.54"
      ]
     },
     "execution_count": 22,
     "metadata": {},
     "output_type": "execute_result"
    }
   ],
   "source": [
    "combined_csv[0:5]"
   ]
  },
  {
   "cell_type": "markdown",
   "metadata": {},
   "source": [
    "CONVERT COUNTRY CODE TO COUNTRY NAME"
   ]
  },
  {
   "cell_type": "code",
   "execution_count": 23,
   "metadata": {},
   "outputs": [
    {
     "data": {
      "text/plain": [
       "95"
      ]
     },
     "execution_count": 23,
     "metadata": {},
     "output_type": "execute_result"
    }
   ],
   "source": [
    "combined_csv.c_code.nunique() #no of unique counries"
   ]
  },
  {
   "cell_type": "code",
   "execution_count": 24,
   "metadata": {},
   "outputs": [],
   "source": [
    "exclu_list = ['XK'] # Invalid codes I found in DataFrame"
   ]
  },
  {
   "cell_type": "code",
   "execution_count": 25,
   "metadata": {},
   "outputs": [],
   "source": [
    "combined_csv = combined_csv[combined_csv.c_code.isin(exclu_list) == False]"
   ]
  },
  {
   "cell_type": "code",
   "execution_count": 26,
   "metadata": {},
   "outputs": [],
   "source": [
    "combined_csv['country'] = combined_csv.apply(lambda x:pc.country_alpha2_to_country_name(x['c_code']),axis=1)"
   ]
  },
  {
   "cell_type": "code",
   "execution_count": 27,
   "metadata": {},
   "outputs": [
    {
     "data": {
      "text/html": [
       "<div>\n",
       "<style scoped>\n",
       "    .dataframe tbody tr th:only-of-type {\n",
       "        vertical-align: middle;\n",
       "    }\n",
       "\n",
       "    .dataframe tbody tr th {\n",
       "        vertical-align: top;\n",
       "    }\n",
       "\n",
       "    .dataframe thead th {\n",
       "        text-align: right;\n",
       "    }\n",
       "</style>\n",
       "<table border=\"1\" class=\"dataframe\">\n",
       "  <thead>\n",
       "    <tr style=\"text-align: right;\">\n",
       "      <th></th>\n",
       "      <th>c_code</th>\n",
       "      <th>city</th>\n",
       "      <th>gauge</th>\n",
       "      <th>count</th>\n",
       "      <th>min</th>\n",
       "      <th>max</th>\n",
       "      <th>median</th>\n",
       "      <th>variance</th>\n",
       "      <th>country</th>\n",
       "    </tr>\n",
       "    <tr>\n",
       "      <th>date</th>\n",
       "      <th></th>\n",
       "      <th></th>\n",
       "      <th></th>\n",
       "      <th></th>\n",
       "      <th></th>\n",
       "      <th></th>\n",
       "      <th></th>\n",
       "      <th></th>\n",
       "      <th></th>\n",
       "    </tr>\n",
       "  </thead>\n",
       "  <tbody>\n",
       "    <tr>\n",
       "      <td>2014-12-29</td>\n",
       "      <td>US</td>\n",
       "      <td>Houston</td>\n",
       "      <td>no2</td>\n",
       "      <td>115</td>\n",
       "      <td>0.8</td>\n",
       "      <td>27.2</td>\n",
       "      <td>8.1</td>\n",
       "      <td>391.47</td>\n",
       "      <td>United States</td>\n",
       "    </tr>\n",
       "    <tr>\n",
       "      <td>2014-12-29</td>\n",
       "      <td>CN</td>\n",
       "      <td>Xining</td>\n",
       "      <td>co</td>\n",
       "      <td>158</td>\n",
       "      <td>3.8</td>\n",
       "      <td>52.7</td>\n",
       "      <td>18.2</td>\n",
       "      <td>902.74</td>\n",
       "      <td>China</td>\n",
       "    </tr>\n",
       "    <tr>\n",
       "      <td>2014-12-29</td>\n",
       "      <td>GB</td>\n",
       "      <td>Preston</td>\n",
       "      <td>pm25</td>\n",
       "      <td>35</td>\n",
       "      <td>69.0</td>\n",
       "      <td>159.0</td>\n",
       "      <td>109.0</td>\n",
       "      <td>7405.76</td>\n",
       "      <td>United Kingdom</td>\n",
       "    </tr>\n",
       "    <tr>\n",
       "      <td>2014-12-29</td>\n",
       "      <td>JP</td>\n",
       "      <td>Utsunomiya</td>\n",
       "      <td>o3</td>\n",
       "      <td>243</td>\n",
       "      <td>0.8</td>\n",
       "      <td>24.1</td>\n",
       "      <td>11.2</td>\n",
       "      <td>475.41</td>\n",
       "      <td>Japan</td>\n",
       "    </tr>\n",
       "    <tr>\n",
       "      <td>2014-12-29</td>\n",
       "      <td>US</td>\n",
       "      <td>Staten Island</td>\n",
       "      <td>o3</td>\n",
       "      <td>23</td>\n",
       "      <td>4.0</td>\n",
       "      <td>28.1</td>\n",
       "      <td>16.0</td>\n",
       "      <td>469.54</td>\n",
       "      <td>United States</td>\n",
       "    </tr>\n",
       "  </tbody>\n",
       "</table>\n",
       "</div>"
      ],
      "text/plain": [
       "           c_code           city gauge  count   min    max  median  variance  \\\n",
       "date                                                                           \n",
       "2014-12-29     US        Houston   no2    115   0.8   27.2     8.1    391.47   \n",
       "2014-12-29     CN         Xining    co    158   3.8   52.7    18.2    902.74   \n",
       "2014-12-29     GB        Preston  pm25     35  69.0  159.0   109.0   7405.76   \n",
       "2014-12-29     JP     Utsunomiya    o3    243   0.8   24.1    11.2    475.41   \n",
       "2014-12-29     US  Staten Island    o3     23   4.0   28.1    16.0    469.54   \n",
       "\n",
       "                   country  \n",
       "date                        \n",
       "2014-12-29   United States  \n",
       "2014-12-29           China  \n",
       "2014-12-29  United Kingdom  \n",
       "2014-12-29           Japan  \n",
       "2014-12-29   United States  "
      ]
     },
     "execution_count": 27,
     "metadata": {},
     "output_type": "execute_result"
    }
   ],
   "source": [
    "combined_csv[0:5] "
   ]
  },
  {
   "cell_type": "markdown",
   "metadata": {},
   "source": [
    "### SELECT DATE RANGE "
   ]
  },
  {
   "cell_type": "markdown",
   "metadata": {},
   "source": [
    "##### Start Date"
   ]
  },
  {
   "cell_type": "code",
   "execution_count": 28,
   "metadata": {},
   "outputs": [
    {
     "data": {
      "text/plain": [
       "Timestamp('2014-12-29 00:00:00')"
      ]
     },
     "execution_count": 28,
     "metadata": {},
     "output_type": "execute_result"
    }
   ],
   "source": [
    "min(combined_csv.index)"
   ]
  },
  {
   "cell_type": "markdown",
   "metadata": {},
   "source": [
    "##### End Date"
   ]
  },
  {
   "cell_type": "code",
   "execution_count": 29,
   "metadata": {},
   "outputs": [
    {
     "data": {
      "text/plain": [
       "Timestamp('2020-05-06 00:00:00')"
      ]
     },
     "execution_count": 29,
     "metadata": {},
     "output_type": "execute_result"
    }
   ],
   "source": [
    "max(combined_csv.index)"
   ]
  },
  {
   "cell_type": "code",
   "execution_count": 30,
   "metadata": {},
   "outputs": [
    {
     "data": {
      "text/plain": [
       "Int64Index([2014, 2015, 2016, 2017, 2018, 2019, 2020], dtype='int64', name='date')"
      ]
     },
     "execution_count": 30,
     "metadata": {},
     "output_type": "execute_result"
    }
   ],
   "source": [
    "combined_csv.index.year.unique()"
   ]
  },
  {
   "cell_type": "code",
   "execution_count": 31,
   "metadata": {},
   "outputs": [],
   "source": [
    "#remove 2014 since it doesn't have much records"
   ]
  },
  {
   "cell_type": "code",
   "execution_count": 32,
   "metadata": {},
   "outputs": [],
   "source": [
    "combined_csv = combined_csv['2015':'2021']"
   ]
  },
  {
   "cell_type": "code",
   "execution_count": 33,
   "metadata": {},
   "outputs": [],
   "source": [
    "#recheck "
   ]
  },
  {
   "cell_type": "code",
   "execution_count": 34,
   "metadata": {},
   "outputs": [
    {
     "data": {
      "text/plain": [
       "'Start Date : 2015-01-01 00:00:00'"
      ]
     },
     "metadata": {},
     "output_type": "display_data"
    },
    {
     "data": {
      "text/plain": [
       "'End Date : 2020-05-06 00:00:00'"
      ]
     },
     "metadata": {},
     "output_type": "display_data"
    }
   ],
   "source": [
    "display(\"Start Date : {}\".format(min(combined_csv.index)),\"End Date : {}\".format(max(combined_csv.index)))"
   ]
  },
  {
   "cell_type": "markdown",
   "metadata": {},
   "source": [
    "####  POLLUTANT -INDIVIDUAL TABLES"
   ]
  },
  {
   "cell_type": "code",
   "execution_count": 35,
   "metadata": {},
   "outputs": [],
   "source": [
    "# co_df   = combined_csv[combined_csv.gauge=='co']\n",
    "# no2_df  = combined_csv[combined_csv.gauge=='no2']\n",
    "# o3_df   = combined_csv[combined_csv.gauge=='o3']\n",
    "# pm25_df = combined_csv[combined_csv.gauge=='pm25']\n",
    "# so2_df  = combined_csv[combined_csv.gauge=='so2']\n",
    "# pm10_df = combined_csv[combined_csv.gauge=='pm10']"
   ]
  },
  {
   "cell_type": "markdown",
   "metadata": {},
   "source": [
    "*****\n",
    "\n",
    "#### EXPORT TO CSV\n",
    " \n",
    "*****"
   ]
  },
  {
   "cell_type": "markdown",
   "metadata": {},
   "source": [
    "####  POLLUTANT - COMBINED"
   ]
  },
  {
   "cell_type": "code",
   "execution_count": 42,
   "metadata": {},
   "outputs": [],
   "source": [
    "pollutant_list = ['co', 'no2', 'so2', 'pm10', 'pm25', 'o3']\n",
    "pollutant_df = combined_csv[combined_csv['gauge'].isin(pollutant_list)][['gauge','median']]\n",
    "pollutant_df.reset_index(inplace=True)\n",
    "pollutant_df_perc = pollutant_df['median'].groupby(pollutant_df['gauge']).count()\n",
    "pollutant_df_perc = pollutant_df_perc.reset_index()\n",
    "pollutant_df_perc.rename(columns ={'median':'count'}, inplace = True)"
   ]
  },
  {
   "cell_type": "code",
   "execution_count": 43,
   "metadata": {},
   "outputs": [
    {
     "data": {
      "text/html": [
       "<div>\n",
       "<style scoped>\n",
       "    .dataframe tbody tr th:only-of-type {\n",
       "        vertical-align: middle;\n",
       "    }\n",
       "\n",
       "    .dataframe tbody tr th {\n",
       "        vertical-align: top;\n",
       "    }\n",
       "\n",
       "    .dataframe thead th {\n",
       "        text-align: right;\n",
       "    }\n",
       "</style>\n",
       "<table border=\"1\" class=\"dataframe\">\n",
       "  <thead>\n",
       "    <tr style=\"text-align: right;\">\n",
       "      <th></th>\n",
       "      <th>date</th>\n",
       "      <th>median</th>\n",
       "    </tr>\n",
       "    <tr>\n",
       "      <th>gauge</th>\n",
       "      <th></th>\n",
       "      <th></th>\n",
       "    </tr>\n",
       "  </thead>\n",
       "  <tbody>\n",
       "    <tr>\n",
       "      <td>co</td>\n",
       "      <td>410187</td>\n",
       "      <td>410187</td>\n",
       "    </tr>\n",
       "    <tr>\n",
       "      <td>no2</td>\n",
       "      <td>542383</td>\n",
       "      <td>542383</td>\n",
       "    </tr>\n",
       "    <tr>\n",
       "      <td>o3</td>\n",
       "      <td>520526</td>\n",
       "      <td>520526</td>\n",
       "    </tr>\n",
       "    <tr>\n",
       "      <td>pm10</td>\n",
       "      <td>524261</td>\n",
       "      <td>524261</td>\n",
       "    </tr>\n",
       "    <tr>\n",
       "      <td>pm25</td>\n",
       "      <td>527432</td>\n",
       "      <td>527432</td>\n",
       "    </tr>\n",
       "  </tbody>\n",
       "</table>\n",
       "</div>"
      ],
      "text/plain": [
       "         date  median\n",
       "gauge                \n",
       "co     410187  410187\n",
       "no2    542383  542383\n",
       "o3     520526  520526\n",
       "pm10   524261  524261\n",
       "pm25   527432  527432"
      ]
     },
     "execution_count": 43,
     "metadata": {},
     "output_type": "execute_result"
    }
   ],
   "source": [
    "pollutant_df_perc[0:5]"
   ]
  },
  {
   "cell_type": "code",
   "execution_count": null,
   "metadata": {},
   "outputs": [],
   "source": [
    "path = 'C:\\\\Users\\\\LOCALGHOST\\\\Desktop\\\\DATASETS\\\\AIR_QUALITY\\\\WAQI\\\\Processed\\\\pollutant_csv.csv'\n",
    "pollutant_df.to_csv( path, index=False, encoding='utf-8-sig')"
   ]
  },
  {
   "cell_type": "markdown",
   "metadata": {},
   "source": [
    "####  ALL DATA"
   ]
  },
  {
   "cell_type": "code",
   "execution_count": 37,
   "metadata": {},
   "outputs": [],
   "source": [
    "# combined_csv.reset_index(inplace=True)\n",
    "# path = 'C:\\\\Users\\\\LOCALGHOST\\\\Desktop\\\\DATASETS\\\\AIR_QUALITY\\\\WAQI\\\\Processed\\\\combined_csv.csv'\n",
    "# combined_csv.to_csv( path, index=False, encoding='utf-8-sig')"
   ]
  },
  {
   "cell_type": "markdown",
   "metadata": {},
   "source": [
    "#### EXTRA "
   ]
  },
  {
   "cell_type": "code",
   "execution_count": 38,
   "metadata": {},
   "outputs": [],
   "source": [
    "\n",
    "\n",
    "# gauge_list = sorted(combined_csv['gauge'].unique())\n",
    "# country_list = sorted(combined_csv.country.unique())\n",
    "# city_list = sorted(combined_csv.city.unique())\n",
    "\n",
    "# country_li = widgets.Dropdown(options = country_list)\n",
    "# gauge_li = widgets.Dropdown(options = gauge_list)\n",
    "# city_li = widgets.Dropdown(options = city_list)"
   ]
  }
 ],
 "metadata": {
  "kernelspec": {
   "display_name": "Python 3",
   "language": "python",
   "name": "python3"
  },
  "language_info": {
   "codemirror_mode": {
    "name": "ipython",
    "version": 3
   },
   "file_extension": ".py",
   "mimetype": "text/x-python",
   "name": "python",
   "nbconvert_exporter": "python",
   "pygments_lexer": "ipython3",
   "version": "3.7.4"
  }
 },
 "nbformat": 4,
 "nbformat_minor": 2
}
